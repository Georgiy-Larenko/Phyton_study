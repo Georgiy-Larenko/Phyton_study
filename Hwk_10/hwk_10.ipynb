{
 "cells": [
  {
   "attachments": {},
   "cell_type": "markdown",
   "metadata": {},
   "source": [
    "*Урок 11. Jupyter Notebook и несколько слов об аналитике*\n",
    "\n",
    "f(x) = - 12x ^ 4 * sin(cos(x)) - 18x ^ 3 + 5x ^ 2 + 10 x - 30\n",
    "\n",
    "* Определить корни\n",
    "\n",
    "* Найти интервалы, на которых функция возрастает\n",
    "\n",
    "* Найти интервалы, на которых функция убывает\n",
    "\n",
    "* Построить график\n",
    "\n",
    "* Вычислить вершину\n",
    "\n",
    "* Определить промежутки, на котором f > 0\n",
    "\n",
    "* Определить промежутки, на котором f < 0"
   ]
  },
  {
   "cell_type": "code",
   "execution_count": null,
   "metadata": {},
   "outputs": [],
   "source": [
    "from math import *\n",
    "\n",
    "f = ((-12) * (x ** 4)) * sin(cos(x)) - (18 * (x ** 3)) + (5 * (x ** 2)) + (10 * x) - 30"
   ]
  }
 ],
 "metadata": {
  "kernelspec": {
   "display_name": "Python 3",
   "language": "python",
   "name": "python3"
  },
  "language_info": {
   "name": "python",
   "version": "3.11.0 (main, Oct 24 2022, 18:26:48) [MSC v.1933 64 bit (AMD64)]"
  },
  "orig_nbformat": 4,
  "vscode": {
   "interpreter": {
    "hash": "5238573367df39f7286bb46f9ff5f08f63a01a80960060ce41e3c79b190280fa"
   }
  }
 },
 "nbformat": 4,
 "nbformat_minor": 2
}
